{
 "cells": [
  {
   "cell_type": "code",
   "execution_count": null,
   "metadata": {},
   "outputs": [],
   "source": []
  },
  {
   "cell_type": "markdown",
   "metadata": {},
   "source": [
    "### Assignment Zero\n",
    "### Zotera UserID : Kumarajayam\n",
    "### Zotera Registered Email ID : pamidi.ajaykumar@gmail.com"
   ]
  },
  {
   "cell_type": "markdown",
   "metadata": {},
   "source": [
    "#### Q.1  List 3 things that you learned from this podcast?\n",
    "\n",
    "Overall the Podcast Talk Python was so much informative. These are the list of things I have learnt from the podcast :\n",
    "\n",
    "- One most important thing I learnt was how notebook is different from regular code. It has cell by cellular structure. Each cell has two witing format options. One is code and other is markdown. This makes the notebook different. The cell by cell execution of the program allows coder to see the output of  each cell simulteneously. We can plot data, get output in any format. We can get detailed description of the code cell by cell making it easier to understand.\n",
    "\n",
    "- Jupyter notebooks applications are vast. Adam shared his experience that notebook is being used by biology students, artifitial intellience purpose, developers etc.\n",
    "\n",
    "- Adam said github has millions of notebooks sharing everyones work at one place. This free open source is helping people to understand get freely published knowledge and aplly them in own work in different  way. Github is great for version control system. Jupyter notebook is allowing multiple users to make as many branches to commit their changes to it using github "
   ]
  },
  {
   "cell_type": "markdown",
   "metadata": {},
   "source": [
    "\n",
    "\n",
    "\n",
    "\n",
    "### Q. 2 What is your reaction to the podcast? Pick at least one point Adam brought up in the interview that you agree with and list your reason why? \n",
    "\n",
    "    It was greatly informative podcast by Adam. Adam covered So many topics such as Jupyter notebook, how the word jupyter came into existance, Github, Artifial intelligance, conginitve psychology applications. \n",
    "\n",
    "    I would like to mention that Adam pointed out that there are over million notebooks in the github. This podcast was published in 2018. So, in todays date this number might have gone to 20 million notebooks. This is what I found brilliantly knwoing the importance of any tool and its future. Adam said so many applications of notebook and today we can actually see how accurate he was 4 years back. Today jupyter notebook is being vastly used in all types of academic / business backgrounds. This uncanny vision of researcher has caught my attention\n"
   ]
  },
  {
   "cell_type": "markdown",
   "metadata": {},
   "source": [
    "### Q. 3  After listening to the podcast , do you think you are more interested or less interested in learning from Jupyter notebooks on Github?\n",
    "\n",
    "    I am exited to work on Jupyter notebook on Github. Todays day any person's career profile is incomplete without a github profile. I am very much exited to see that the academic assignments and projects to be done in the course of machine learning will be simulteneously uploaded on out Github and our profile is gettting created as we learn. Greatly looking forward for the same"
   ]
  },
  {
   "cell_type": "code",
   "execution_count": null,
   "metadata": {},
   "outputs": [],
   "source": []
  },
  {
   "cell_type": "code",
   "execution_count": null,
   "metadata": {},
   "outputs": [],
   "source": []
  }
 ],
 "metadata": {
  "kernelspec": {
   "display_name": "Python 3.10.5 64-bit",
   "language": "python",
   "name": "python3"
  },
  "language_info": {
   "codemirror_mode": {
    "name": "ipython",
    "version": 3
   },
   "file_extension": ".py",
   "mimetype": "text/x-python",
   "name": "python",
   "nbconvert_exporter": "python",
   "pygments_lexer": "ipython3",
   "version": "3.10.5"
  },
  "vscode": {
   "interpreter": {
    "hash": "aee8b7b246df8f9039afb4144a1f6fd8d2ca17a180786b69acc140d282b71a49"
   }
  }
 },
 "nbformat": 4,
 "nbformat_minor": 2
}
